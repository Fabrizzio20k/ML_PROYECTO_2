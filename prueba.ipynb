{
 "cells": [
  {
   "cell_type": "markdown",
   "metadata": {},
   "source": [
    "Leer primero los archivos h5 de train y test y crear un df con pandas. Luego, separamos el df en train y test."
   ]
  },
  {
   "cell_type": "code",
   "execution_count": 1,
   "metadata": {},
   "outputs": [
    {
     "name": "stdout",
     "output_type": "stream",
     "text": [
      "(204, 1, 18530)\n",
      "(204,)\n"
     ]
    }
   ],
   "source": [
    "import pandas as pd\n",
    "import h5py\n",
    "import matplotlib.pyplot as plt\n",
    "import numpy as np\n",
    "from tsfresh import extract_features\n",
    "from tsfresh.feature_extraction import EfficientFCParameters\n",
    "from tsfresh.utilities.distribution import MultiprocessingDistributor\n",
    "import os\n",
    "\n",
    "with h5py.File('train.h5', 'r') as f:\n",
    "    X = f['x'][:]\n",
    "    Y = f['y'][:]\n",
    "\n",
    "print(X.shape)\n",
    "print(Y.shape)\n",
    "\n",
    "# Convierte X a un DataFrame de pandas\n",
    "df_X = pd.DataFrame(X.reshape(-1, X.shape[-1]))\n",
    "\n",
    "# Convierte Y a un DataFrame de pandas\n",
    "df_Y = pd.DataFrame(Y, columns=['Target'])\n",
    "\n",
    "# Une los dos DataFrames\n",
    "df = pd.concat([df_X, df_Y], axis=1)\n",
    "\n",
    "# print(df)\n",
    "\n",
    "num_trials = 18530\n",
    "\n",
    "df_tsfresh = pd.DataFrame({\n",
    "    'id': np.repeat(df.index, num_trials),\n",
    "    'time': np.tile(np.arange(num_trials), len(df)),\n",
    "    'value': df.drop(columns='Target').values.flatten()\n",
    "})\n",
    "\n",
    "\n",
    "#use test.h5 and predict the target and save it in a file\n",
    "with h5py.File('test.h5', 'r') as f:\n",
    "    XX = f['x'][:]\n",
    "\n",
    "# Convierte X a un DataFrame de pandas\n",
    "df_X_test = pd.DataFrame(XX.reshape(-1, X.shape[-1]))\n",
    "\n",
    "df_tsfresh_test = pd.DataFrame({\n",
    "    'id': np.repeat(df_X_test.index, num_trials),\n",
    "    'time': np.tile(np.arange(num_trials), len(df_X_test)),\n",
    "    'value': df_X_test.values.flatten()\n",
    "})"
   ]
  },
  {
   "cell_type": "markdown",
   "metadata": {},
   "source": [
    "Luego extraemos las features de los archivos h5 con tsfresh"
   ]
  },
  {
   "cell_type": "code",
   "execution_count": null,
   "metadata": {},
   "outputs": [],
   "source": [
    "Distributor1 = MultiprocessingDistributor(n_workers=os.cpu_count(), disable_progressbar=False, progressbar_title=\"Feature Extraction\")\n",
    "Distributor2 = MultiprocessingDistributor(n_workers=os.cpu_count(), disable_progressbar=False, progressbar_title=\"Feature Extraction\")\n",
    "\n",
    "features = extract_features(df_tsfresh, column_id='id', column_sort='time', distributor=Distributor1, default_fc_parameters=EfficientFCParameters())\n",
    "features_test = extract_features(df_tsfresh_test, column_id='id', column_sort='time', distributor=Distributor2, default_fc_parameters=EfficientFCParameters())\n"
   ]
  },
  {
   "cell_type": "markdown",
   "metadata": {},
   "source": [
    "Después, separamos las features en train y test y las guardamos en archivos csv."
   ]
  },
  {
   "cell_type": "code",
   "execution_count": null,
   "metadata": {},
   "outputs": [],
   "source": [
    "#save features in a file.csv\n",
    "features.to_csv(\"features_train.csv\", index=False)\n",
    "\n",
    "#save features_test in a file.csv\n",
    "features_test.to_csv(\"features_test.csv\", index=False)\n",
    "\n",
    "#save y in a file.csv\n",
    "df_Y.to_csv(\"y_train.csv\", index=False)"
   ]
  },
  {
   "cell_type": "markdown",
   "metadata": {},
   "source": [
    "Mas adelante, cargamos las features de train de sus csv y las dividimos en train y validation."
   ]
  },
  {
   "cell_type": "code",
   "execution_count": 236,
   "metadata": {},
   "outputs": [],
   "source": [
    "from sklearn.metrics import classification_report\n",
    "from sklearn.model_selection import train_test_split\n",
    "\n",
    "\n",
    "# Cargar los datos\n",
    "df = pd.read_csv('features_train.csv')\n",
    "y = pd.read_csv('y_train.csv')\n",
    "X = df\n",
    "y = y['Target']\n",
    "\n",
    "\n"
   ]
  },
  {
   "cell_type": "markdown",
   "metadata": {},
   "source": [
    "##### SVD analysis"
   ]
  },
  {
   "cell_type": "code",
   "execution_count": 237,
   "metadata": {},
   "outputs": [
    {
     "name": "stdout",
     "output_type": "stream",
     "text": [
      "(204, 10)\n",
      "(204,)\n"
     ]
    }
   ],
   "source": [
    "import numpy as np\n",
    "import pandas as pd\n",
    "from sklearn.decomposition import TruncatedSVD\n",
    "from sklearn.preprocessing import StandardScaler\n",
    "\n",
    "# Assuming X is your input data and df_Y contains your target variable\n",
    "\n",
    "# Standardize the data\n",
    "scaler = StandardScaler()\n",
    "x_train_scaled = scaler.fit_transform(X)\n",
    "\n",
    "x_train_scaled = np.nan_to_num(x_train_scaled)\n",
    "\n",
    "# Apply TruncatedSVD\n",
    "svd = TruncatedSVD(n_components=10, n_iter=100, random_state=42)\n",
    "svd.fit(x_train_scaled)\n",
    "\n",
    "eigen_vecs = svd.components_\n",
    "#print(eigen_vecs.shape)\n",
    "\n",
    "# Transform the data to the new space\n",
    "features_transformed = svd.transform(x_train_scaled)  # features_transformed is a numpy array\n",
    "features_imputed = pd.DataFrame(features_transformed)  # features_imputed is a DataFrame of pandas\n",
    "\n",
    "# DATA WITH SVD\n",
    "X = features_imputed\n",
    "Y = df_Y['Target']\n",
    "print(X.shape)\n",
    "print(Y.shape)\n"
   ]
  },
  {
   "cell_type": "markdown",
   "metadata": {},
   "source": []
  },
  {
   "cell_type": "markdown",
   "metadata": {},
   "source": [
    "PCA ANALISIS"
   ]
  },
  {
   "cell_type": "code",
   "execution_count": 150,
   "metadata": {},
   "outputs": [
    {
     "name": "stdout",
     "output_type": "stream",
     "text": [
      "(204, 3)\n",
      "(204,)\n"
     ]
    }
   ],
   "source": [
    "#import pca\n",
    "from sklearn.decomposition import PCA\n",
    "from sklearn.preprocessing import StandardScaler\n",
    "\n",
    "# Estandarizar los datos\n",
    "scaler = StandardScaler()\n",
    "x_train_scaled = scaler.fit_transform(X)\n",
    "\n",
    "x_train_scaled = np.nan_to_num(x_train_scaled)\n",
    "\n",
    "\n",
    "# Seleccionar el número de componentes principales\n",
    "pca2 = PCA(n_components=0.8)\n",
    "pca2.fit(x_train_scaled)\n",
    "\n",
    "eigen_vecs = pca2.components_\n",
    "#print(eigen_vecs.shape)\n",
    "\n",
    "# Transformar los datos al nuevo espacio\n",
    "features_transformed = pca2.transform(x_train_scaled)      # features_transformed es un numpy array\n",
    "features_imputed = pd.DataFrame(features_transformed)   # features_imputed es un DataFrame de pandas\n",
    "\n",
    "# DATA CON PCA\n",
    "X = features_imputed\n",
    "Y = df_Y['Target']\n",
    "print(X.shape)\n",
    "print(Y.shape)"
   ]
  },
  {
   "cell_type": "markdown",
   "metadata": {},
   "source": [
    "Despues, elegimos algun modelo de clasificación y lo entrenamos con las features de train y validamos con las features de validation."
   ]
  },
  {
   "cell_type": "code",
   "execution_count": 238,
   "metadata": {},
   "outputs": [],
   "source": [
    "#import logistic regression\n",
    "# Divide tus datos en conjuntos de entrenamiento y prueba\n",
    "X_train, X_test, y_train, y_test = train_test_split(X, Y, test_size=0.3, random_state=42)\n",
    "X_train = X_train.fillna(0)\n",
    "X_test = X_test.fillna(0)"
   ]
  },
  {
   "cell_type": "code",
   "execution_count": 220,
   "metadata": {},
   "outputs": [
    {
     "name": "stdout",
     "output_type": "stream",
     "text": [
      "              precision    recall  f1-score   support\n",
      "\n",
      "           0       0.79      0.96      0.86        46\n",
      "           1       0.67      0.25      0.36        16\n",
      "\n",
      "    accuracy                           0.77        62\n",
      "   macro avg       0.73      0.60      0.61        62\n",
      "weighted avg       0.75      0.77      0.73        62\n",
      "\n",
      "Accuracy: 0.7741935483870968\n"
     ]
    },
    {
     "data": {
      "image/png": "[encoded data removed]",
      "text/plain": [
       "<Figure size 640x480 with 2 Axes>"
      ]
     },
     "metadata": {},
     "output_type": "display_data"
    }
   ],
   "source": [
    "#import SVM from sklearn\n",
    "from sklearn.svm import SVC\n",
    "from sklearn.metrics import classification_report, accuracy_score, confusion_matrix\n",
    "import seaborn as sns\n",
    "import matplotlib.pyplot as plt\n",
    "\n",
    "# Assuming X_train, X_test, y_train, y_test are your train-test split datasets\n",
    "\n",
    "# Create a support vector classifier\n",
    "clf = SVC()\n",
    "\n",
    "# Train the classifier\n",
    "clf.fit(X_train, y_train)\n",
    "\n",
    "# Make predictions on the test set\n",
    "y_pred = clf.predict(X_test)\n",
    "\n",
    "# Show the classification report\n",
    "print(classification_report(y_test, y_pred))\n",
    "\n",
    "# Get accuracy\n",
    "accuracy = accuracy_score(y_test, y_pred)\n",
    "print(f'Accuracy: {accuracy}')\n",
    "\n",
    "# Create and plot the confusion matrix\n",
    "cm = confusion_matrix(y_test, y_pred)\n",
    "sns.heatmap(cm, annot=True, fmt='d', cmap='Blues')\n",
    "plt.xlabel('Predicted')\n",
    "plt.ylabel('Actual')\n",
    "plt.title('Confusion Matrix')\n",
    "plt.show()\n"
   ]
  },
  {
   "cell_type": "markdown",
   "metadata": {},
   "source": [
    "#### Logistic Regression"
   ]
  },
  {
   "cell_type": "code",
   "execution_count": 239,
   "metadata": {},
   "outputs": [
    {
     "name": "stdout",
     "output_type": "stream",
     "text": [
      "              precision    recall  f1-score   support\n",
      "\n",
      "           0       0.79      0.98      0.87        46\n",
      "           1       0.80      0.25      0.38        16\n",
      "\n",
      "    accuracy                           0.79        62\n",
      "   macro avg       0.79      0.61      0.63        62\n",
      "weighted avg       0.79      0.79      0.75        62\n",
      "\n",
      "Accuracy: 0.7903225806451613\n"
     ]
    },
    {
     "data": {
      "image/png": "[encoded data removed]",
      "text/plain": [
       "<Figure size 640x480 with 2 Axes>"
      ]
     },
     "metadata": {},
     "output_type": "display_data"
    }
   ],
   "source": [
    "#import logistic regression from sklearn\n",
    "from sklearn.linear_model import LogisticRegression\n",
    "from sklearn.metrics import classification_report, accuracy_score, confusion_matrix\n",
    "import seaborn as sns\n",
    "import matplotlib.pyplot as plt\n",
    "\n",
    "# Assuming X_train, X_test, y_train, y_test are your train-test split datasets\n",
    "\n",
    "# Create a logistic regression classifier\n",
    "clf = LogisticRegression(max_iter=10000)\n",
    "\n",
    "# Train the classifier\n",
    "clf.fit(X_train, y_train)\n",
    "\n",
    "# Make predictions on the test set\n",
    "y_pred = clf.predict(X_test)\n",
    "\n",
    "# Show the classification report\n",
    "print(classification_report(y_test, y_pred))\n",
    "\n",
    "# Get accuracy\n",
    "accuracy = accuracy_score(y_test, y_pred)\n",
    "print(f'Accuracy: {accuracy}')\n",
    "\n",
    "# Create and plot the confusion matrix\n",
    "cm = confusion_matrix(y_test, y_pred)\n",
    "sns.heatmap(cm, annot=True, fmt='d', cmap='Blues')\n",
    "plt.xlabel('Predicted')\n",
    "plt.ylabel('Actual')\n",
    "plt.title('Confusion Matrix')\n",
    "plt.show()\n"
   ]
  },
  {
   "cell_type": "code",
   "execution_count": 226,
   "metadata": {},
   "outputs": [
    {
     "name": "stdout",
     "output_type": "stream",
     "text": [
      "              precision    recall  f1-score   support\n",
      "\n",
      "           0       0.80      0.76      0.78        46\n",
      "           1       0.39      0.44      0.41        16\n",
      "\n",
      "    accuracy                           0.68        62\n",
      "   macro avg       0.59      0.60      0.59        62\n",
      "weighted avg       0.69      0.68      0.68        62\n",
      "\n",
      "0.6774193548387096\n"
     ]
    },
    {
     "data": {
      "image/png": "[encoded data removed]",
      "text/plain": [
       "<Figure size 640x480 with 2 Axes>"
      ]
     },
     "metadata": {},
     "output_type": "display_data"
    }
   ],
   "source": [
    "#import knn from sklearn\n",
    "from sklearn.tree import DecisionTreeClassifier\n",
    "\n",
    "# Crea un clasificador KNN\n",
    "clf = DecisionTreeClassifier()\n",
    "# Entrena el clasificador\n",
    "clf.fit(X_train, y_train)\n",
    "\n",
    "# Haz predicciones en el conjunto de prueba\n",
    "y_pred = clf.predict(X_test)\n",
    "\n",
    "# Muestra el reporte de clasificación\n",
    "print(classification_report(y_test, y_pred))\n",
    "\n",
    "#get accuracy\n",
    "from sklearn.metrics import accuracy_score\n",
    "accuracy = accuracy_score(y_test, y_pred)\n",
    "print(accuracy)\n",
    "\n",
    "#create confusion matrix\n",
    "from sklearn.metrics import confusion_matrix\n",
    "\n",
    "#plot confusion matrix\n",
    "import seaborn as sns\n",
    "sns.heatmap(confusion_matrix(y_test, y_pred), annot=True, fmt='d', cmap='Blues')\n",
    "plt.xlabel('Predicted')\n",
    "plt.ylabel('Actual')\n",
    "plt.show()\n"
   ]
  },
  {
   "cell_type": "markdown",
   "metadata": {},
   "source": [
    "Finalmente predecimos las features de test y las guardamos en un archivo csv."
   ]
  },
  {
   "cell_type": "code",
   "execution_count": 234,
   "metadata": {},
   "outputs": [
    {
     "name": "stderr",
     "output_type": "stream",
     "text": [
      "/Users/edgarchambilla/Desktop/UTEC_CODE/ML/venvML/lib/python3.11/site-packages/sklearn/base.py:486: UserWarning: X has feature names, but LogisticRegression was fitted without feature names\n",
      "  warnings.warn(\n"
     ]
    }
   ],
   "source": [
    "X_test = pd.read_csv('features_test.csv')\n",
    "X_test = X_test.fillna(0)\n",
    "\n",
    "# X_test = pca.transform(X_test)\n",
    "\n",
    "# Haz predicciones en el conjunto de prueba\n",
    "y_pred = clf.predict(X_test)\n",
    "\n",
    "\n",
    "#save y_pred in a file.csv with id and result. id starts from 1\n",
    "df_y_pred = pd.DataFrame(y_pred, columns=['result'])\n",
    "df_y_pred.index += 1\n",
    "df_y_pred.index.name = 'ID'\n",
    "df_y_pred.to_csv(\"y_pred.csv\")"
   ]
  },
  {
   "cell_type": "code",
   "execution_count": 264,
   "metadata": {},
   "outputs": [],
   "source": [
    "import pandas as pd\n",
    "from sklearn.linear_model import LogisticRegression\n",
    "from sklearn.metrics import classification_report, accuracy_score, confusion_matrix\n",
    "import seaborn as sns\n",
    "import matplotlib.pyplot as plt\n",
    "\n",
    "# Load and preprocess the test set\n",
    "X_test = pd.read_csv('features_test.csv')\n",
    "X_test = X_test.fillna(0)  # Fill missing values with 0\n",
    "\n",
    "\n",
    "# Convert the test set to a NumPy array (to match the format of the training data)\n",
    "X_test_array = X_test.to_numpy()\n",
    "\n",
    "# Assuming you have a trained logistic regression model (clf)\n",
    "# and the target variable for the test set (y_test) is already defined\n",
    "\n",
    "# Make predictions on the test set\n",
    "y_pred = clf.predict(X_test_array)\n",
    "\n",
    "# Save the predictions to a CSV file\n",
    "df_y_pred = pd.DataFrame(y_pred, columns=['Target'])\n",
    "df_y_pred.index += 1\n",
    "df_y_pred.index.name = 'Id'\n",
    "df_y_pred.to_csv('y_pred.csv')\n",
    "\n"
   ]
  },
  {
   "cell_type": "code",
   "execution_count": null,
   "metadata": {},
   "outputs": [],
   "source": []
  }
 ],
 "metadata": {
  "kernelspec": {
   "display_name": "ML_ENVIROMENT",
   "language": "python",
   "name": "ml_enviroment"
  },
  "language_info": {
   "codemirror_mode": {
    "name": "ipython",
    "version": 3
   },
   "file_extension": ".py",
   "mimetype": "text/x-python",
   "name": "python",
   "nbconvert_exporter": "python",
   "pygments_lexer": "ipython3",
   "version": "3.11.7"
  }
 },
 "nbformat": 4,
 "nbformat_minor": 2
}
