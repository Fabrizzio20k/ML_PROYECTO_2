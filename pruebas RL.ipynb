{
 "cells": [
  {
   "cell_type": "code",
   "execution_count": 1,
   "metadata": {},
   "outputs": [],
   "source": [
    "import pandas as pd\n",
    "import h5py\n",
    "import matplotlib.pyplot as plt\n",
    "import numpy as np\n",
    "from tsfresh import extract_features\n",
    "from tsfresh.feature_extraction import EfficientFCParameters\n",
    "from tsfresh.feature_extraction import MinimalFCParameters\n",
    "from sklearn.preprocessing import StandardScaler\n",
    "import matplotlib.pyplot as plt\n",
    "from sklearn.decomposition import PCA\n",
    "from sklearn.tree import DecisionTreeClassifier\n",
    "from sklearn.ensemble import RandomForestClassifier\n",
    "from sklearn.metrics import classification_report\n",
    "from sklearn.model_selection import train_test_split\n",
    "from sklearn.metrics import accuracy_score\n",
    "from modelos import RandomForest\n",
    "import random\n",
    "\n",
    "def norm_data(data):\n",
    "    min_val = np.min(data, axis=0)\n",
    "    max_val = np.max(data, axis=0)\n",
    "    return (data - min_val) / (max_val - min_val)\n"
   ]
  },
  {
   "cell_type": "code",
   "execution_count": 17,
   "metadata": {},
   "outputs": [
    {
     "name": "stdout",
     "output_type": "stream",
     "text": [
      "0      0\n",
      "1      1\n",
      "2      0\n",
      "3      0\n",
      "4      0\n",
      "      ..\n",
      "199    0\n",
      "200    0\n",
      "201    0\n",
      "202    0\n",
      "203    1\n",
      "Name: Target, Length: 204, dtype: int64\n",
      "     value__sum_values  value__median   value__mean  value__length  \\\n",
      "0            -0.734864      -0.000244 -3.965807e-05        18530.0   \n",
      "1             0.300720      -0.001068  1.622879e-05        18530.0   \n",
      "2            -0.477569      -0.000092 -2.577277e-05        18530.0   \n",
      "3             0.007569       0.000244  4.084731e-07        18530.0   \n",
      "4            -0.562194       0.000809 -3.033966e-05        18530.0   \n",
      "..                 ...            ...           ...            ...   \n",
      "199          -0.336639       0.000275 -1.816727e-05        18530.0   \n",
      "200          -0.214232       0.000153 -1.156139e-05        18530.0   \n",
      "201          -1.214111       0.002014 -6.552135e-05        18530.0   \n",
      "202          -0.641754       0.000000 -3.463324e-05        18530.0   \n",
      "203           0.517272       0.003540  2.791537e-05        18530.0   \n",
      "\n",
      "     value__standard_deviation  value__variance  value__root_mean_square  \\\n",
      "0                     0.042282         0.001788                 0.042282   \n",
      "1                     0.043400         0.001884                 0.043401   \n",
      "2                     0.029535         0.000872                 0.029535   \n",
      "3                     0.018126         0.000329                 0.018126   \n",
      "4                     0.038896         0.001513                 0.038896   \n",
      "..                         ...              ...                      ...   \n",
      "199                   0.022196         0.000493                 0.022196   \n",
      "200                   0.038225         0.001461                 0.038225   \n",
      "201                   0.038036         0.001447                 0.038036   \n",
      "202                   0.008663         0.000075                 0.008663   \n",
      "203                   0.086846         0.007542                 0.086846   \n",
      "\n",
      "     value__maximum  value__absolute_maximum  value__minimum  \n",
      "0          0.244141                 0.244141       -0.226776  \n",
      "1          0.268433                 0.271423       -0.271423  \n",
      "2          0.213471                 0.213471       -0.210388  \n",
      "3          0.080292                 0.156067       -0.156067  \n",
      "4          0.342773                 0.342773       -0.332031  \n",
      "..              ...                      ...             ...  \n",
      "199        0.103943                 0.103943       -0.092773  \n",
      "200        0.371368                 0.373566       -0.373566  \n",
      "201        0.180511                 0.271545       -0.271545  \n",
      "202        0.048737                 0.063019       -0.063019  \n",
      "203        0.541260                 0.541260       -0.510590  \n",
      "\n",
      "[204 rows x 10 columns]\n"
     ]
    },
    {
     "name": "stderr",
     "output_type": "stream",
     "text": [
      "c:\\Users\\Jesus Egusquiza\\Desktop\\ciclo5\\Machine Learning\\proyecto2_2\\env\\lib\\site-packages\\tsfresh\\utilities\\dataframe_functions.py:198: RuntimeWarning: The columns ['value__query_similarity_count__query_None__threshold_0.0'] did not have any finite values. Filling with zeros.\n",
      "  warnings.warn(\n",
      "c:\\Users\\Jesus Egusquiza\\Desktop\\ciclo5\\Machine Learning\\proyecto2_2\\env\\lib\\site-packages\\tsfresh\\utilities\\dataframe_functions.py:198: RuntimeWarning: The columns ['value__query_similarity_count__query_None__threshold_0.0'] did not have any finite values. Filling with zeros.\n",
      "  warnings.warn(\n"
     ]
    },
    {
     "name": "stdout",
     "output_type": "stream",
     "text": [
      "(204, 208)\n",
      "(205, 208)\n",
      "(204, 208)\n",
      "(204,)\n",
      "(204, 10)\n"
     ]
    }
   ],
   "source": [
    "from tsfresh import select_features\n",
    "from tsfresh.utilities.dataframe_functions import impute\n",
    "import pandas as pd\n",
    "import os\n",
    "\n",
    "# Lee tus datos\n",
    "features = pd.read_csv('./data_medicina.csv')       # data training con el target\n",
    "Y = pd.read_csv('y_train.csv')       # target\n",
    "Y = Y['Target']\n",
    "print(Y)\n",
    "features = features.iloc[:,1:]   \n",
    "num_cores = os.cpu_count()\n",
    "X_test = pd.read_csv('features_test.csv')\n",
    "\n",
    "\n",
    "X_test = X_test.iloc[:, 1:]\n",
    "\n",
    "# Imputa los valores faltantes\n",
    "X_train_imputed = impute(features)\n",
    "X_test_imputed = impute(X_test)\n",
    "\n",
    "# Selecciona las características relevantes para X_train\n",
    "# haz un select_features mas restrictivo\n",
    "features = select_features(X_train_imputed , Y  , n_jobs = num_cores)\n",
    "\n",
    "\n",
    "#features = select_features(X_train_imputed , Y  , n_jobs = num_cores)\n",
    "\n",
    "# Aplica la misma selección de características a X_test\n",
    "X_test_selected = X_test_imputed[features.columns]\n",
    "\n",
    "print(features.shape)\n",
    "print(X_test_selected.shape)\n",
    "\n",
    "# Selecciona las features mas relevantes\n",
    "#features = select_features(features_imputed , Y  , n_jobs = num_cores)\n",
    "\n",
    "#X_test = select_features(X_test_imputed , Y,n_jobs = num_cores)\n",
    "\n",
    "x_sin_pca = features\n",
    "print(x_sin_pca.shape)\n",
    "print(Y.shape)\n",
    "\n",
    "# guardar x_sin_pca y X_test_selected\n",
    "#x_sin_pca.to_csv('features_sin_pca.csv', index=False)\n",
    "#X_test_selected.to_csv('features_test_sin_pca.csv', index=False)\n",
    "\n",
    "\n",
    "\n",
    "\n"
   ]
  },
  {
   "cell_type": "markdown",
   "metadata": {},
   "source": [
    "\n",
    "#PCA ANALYSIS\n",
    "\n",
    "\n",
    "\n",
    "\n"
   ]
  },
  {
   "cell_type": "code",
   "execution_count": 18,
   "metadata": {},
   "outputs": [
    {
     "name": "stdout",
     "output_type": "stream",
     "text": [
      "data scaled\n",
      "[[-0.86723252  0.6243149  -0.79018102 ...  0.03354261 -0.25848713\n",
      "   0.67522709]\n",
      " [-1.23886794  0.1983439  -0.99755834 ... -0.26727137  0.14080416\n",
      "   1.22738112]\n",
      " [ 1.27418926  0.19491055  1.12539521 ... -0.02826451 -0.34941294\n",
      "  -0.44781568]\n",
      " ...\n",
      " [-0.92833255 -0.92859496 -0.82050893 ...  0.01175625  0.0555435\n",
      "   2.05375231]\n",
      " [ 1.04899794  0.00415125  0.77293574 ... -0.04943011 -0.35246599\n",
      "  -0.83031547]\n",
      " [-1.42803659 -2.39407625 -1.09509945 ... -0.41962932  0.29277394\n",
      "   1.56194284]]\n",
      "max 13.641396742419687\n",
      "min -12.42112104060243\n"
     ]
    },
    {
     "data": {
      "image/png": "[encoded data removed]",
      "text/plain": [
       "<Figure size 1000x600 with 1 Axes>"
      ]
     },
     "metadata": {},
     "output_type": "display_data"
    }
   ],
   "source": [
    "import numpy as np\n",
    "import matplotlib.pyplot as plt\n",
    "from sklearn.decomposition import PCA\n",
    "from sklearn.preprocessing import StandardScaler\n",
    "\n",
    "# Estandarizar los datos antes de aplicar PCA\n",
    "scaler = StandardScaler()\n",
    "data_scaled = scaler.fit_transform(features)\n",
    "print(\"data scaled\")\n",
    "print(data_scaled)\n",
    "print(\"max\", np.max(data_scaled))\n",
    "print(\"min\", np.min(data_scaled))\n",
    "x_train_scaled = data_scaled\n",
    "\n",
    "\n",
    "# ESCALAMOS LOS DATOS DE TEST\n",
    "data_scaled_test = scaler.fit_transform(X_test_selected)\n",
    "X_test_scaled = data_scaled_test\n",
    "# Ajustar el PCA\n",
    "pca = PCA()\n",
    "pca.fit(x_train_scaled)\n",
    "\n",
    "\n",
    "# Porcentaje de varianza explicada por cada componente\n",
    "varianza_explicada = pca.explained_variance_ratio_ * 100\n",
    "\n",
    "# Número de componentes\n",
    "num_componentes = np.arange(len(varianza_explicada)) + 1\n",
    "\n",
    "# Crear el scree plot\n",
    "plt.figure(figsize=(10, 6))\n",
    "plt.bar(num_componentes, varianza_explicada, alpha=0.5, align='center', label='Varianza individual explicada')\n",
    "plt.step(num_componentes, np.cumsum(varianza_explicada), where='mid', label='Varianza acumulada')\n",
    "plt.ylabel('Porcentaje de Varianza Explicada')\n",
    "plt.xlabel('Componentes Principales')\n",
    "plt.title('Scree Plot de PCA')\n",
    "plt.legend(loc='best')\n",
    "plt.axhline(y=95, color='r', linestyle='--')  # Línea opcional para el umbral de varianza deseado, ej. 95%\n",
    "plt.show()\n"
   ]
  },
  {
   "cell_type": "markdown",
   "metadata": {},
   "source": [
    "APLICANDO PCA CON LA DATA MAS RELEVANTE"
   ]
  },
  {
   "cell_type": "code",
   "execution_count": 20,
   "metadata": {},
   "outputs": [
    {
     "name": "stdout",
     "output_type": "stream",
     "text": [
      "(204, 20)\n",
      "(204,)\n",
      "<class 'pandas.core.frame.DataFrame'>\n",
      "<class 'pandas.core.series.Series'>\n",
      "(205, 20)\n",
      "Y\n",
      "0      0\n",
      "1      1\n",
      "2      0\n",
      "3      0\n",
      "4      0\n",
      "      ..\n",
      "199    0\n",
      "200    0\n",
      "201    0\n",
      "202    0\n",
      "203    1\n",
      "Name: Target, Length: 204, dtype: int64\n"
     ]
    }
   ],
   "source": [
    "\n",
    "# Seleccionar el número de componentes principales\n",
    "pca2 = PCA(n_components=20)\n",
    "pca2.fit(x_train_scaled)\n",
    "\n",
    "\n",
    "eigen_vecs = pca2.components_\n",
    "#print(eigen_vecs.shape)\n",
    "\n",
    "# Transformar los datos al nuevo espacio\n",
    "features_transformed = pca2.transform(x_train_scaled)      # features_transformed es un numpy array\n",
    "features_imputed = pd.DataFrame(features_transformed)   # features_imputed es un DataFrame de pandas\n",
    "\n",
    "# DATA CON PCA\n",
    "X = features_imputed\n",
    "\n",
    "print(X.shape)\n",
    "print(Y.shape)\n",
    "\n",
    "print(type(X))\n",
    "print(type(Y))\n",
    "features_transformed_test = pca2.transform(X_test_scaled)  # Aplica la transformación PCA a X_test_scaled\n",
    "features_imputed_test = pd.DataFrame(features_transformed_test)\n",
    "\n",
    "X_test = features_imputed_test\n",
    "print(X_test.shape)\n",
    "\n",
    "# guardar en csv el X, Y, X_test\n",
    "X.to_csv('X.csv', index=False)\n",
    "Y.to_csv('Y.csv', index=False)\n",
    "X_test.to_csv('X_test.csv', index=False)\n",
    "print(\"Y\")\n",
    "print(Y)"
   ]
  },
  {
   "cell_type": "markdown",
   "metadata": {},
   "source": [
    "ENTRENANDO CON Regresion Logistica"
   ]
  },
  {
   "cell_type": "code",
   "execution_count": 26,
   "metadata": {},
   "outputs": [
    {
     "name": "stdout",
     "output_type": "stream",
     "text": [
      "Accuracy:  0.7419354838709677\n"
     ]
    },
    {
     "data": {
      "image/png": "[encoded data removed]",
      "text/plain": [
       "<Figure size 640x480 with 2 Axes>"
      ]
     },
     "metadata": {},
     "output_type": "display_data"
    }
   ],
   "source": [
    "from sklearn.ensemble import RandomForestClassifier\n",
    "from sklearn.metrics import classification_report\n",
    "from sklearn.model_selection import train_test_split\n",
    "from modelos import RL\n",
    "\n",
    "#X = pd.DataFrame(features_transformed)\n",
    "\n",
    "# normalizando los datos de PCA\n",
    "X_rl = RL.norm_data(X)\n",
    "\n",
    "\n",
    "\n",
    "# maximo valor de x_sin_pca\n",
    "\n",
    "X_train, X_test, y_train, y_test = train_test_split(X_rl, Y, test_size=0.3, random_state=42)   # entrando con data pca\n",
    "\n",
    "#X_train, X_test, y_train, y_test = train_test_split(x_sin_pca, Y, test_size=0.3, random_state=42)      # entrando con data original\n",
    "\n",
    "LR = RL.modelo(alpha=0.02 ,epochs=100000 , epsilon=0.0001 )\n",
    "# LR = RL.modelo(alpha=0.02 ,epochs=100000 , epsilon=0.0001 ) -> 74%\n",
    "LR.train(X_train , y_train)\n",
    "\n",
    "\n",
    "y_pred = LR.predict(X_test)\n",
    "\n",
    "#get accuracy\n",
    "from sklearn.metrics import accuracy_score\n",
    "accuracy_f = accuracy_score(y_test, y_pred)\n",
    "print(\"Accuracy: \" , accuracy_f)\n",
    "\n",
    "#create confusion matrix\n",
    "from sklearn.metrics import confusion_matrix\n",
    "\n",
    "#plot confusion matrix\n",
    "import seaborn as sns\n",
    "sns.heatmap(confusion_matrix(y_test, y_pred), annot=True, fmt='d', cmap='Blues')\n",
    "plt.xlabel('Predicted')\n",
    "plt.ylabel('Actual')\n",
    "plt.show()\n"
   ]
  },
  {
   "cell_type": "markdown",
   "metadata": {},
   "source": [
    "REGRESION LOGISTICA 100 EXPERIMENTOS"
   ]
  },
  {
   "cell_type": "code",
   "execution_count": 28,
   "metadata": {},
   "outputs": [],
   "source": [
    "LR = RL.modelo(alpha=0.02 ,epochs=20000 , epsilon=0.0001 )\n",
    "\n",
    "# LR = RL.modelo(alpha=0.02 ,epochs=100000 , epsilon=0.0001 ) -> 74%\n",
    "LR.train(X_rl , Y)\n",
    "\n",
    "\n",
    "X_test = pd.read_csv('X_test.csv')\n",
    "\n",
    "X_test = RL.norm_data(X_test)\n",
    "\n",
    "y_pred = LR.predict(X_test)\n",
    "\n",
    "# convertir a enteros\n",
    "y_pred = y_pred.astype(int)\n",
    "\n",
    "# guardar en csv el X, Y, X_test\n",
    "df_y_pred = pd.DataFrame(y_pred, columns=['result'])\n",
    "df_y_pred.index += 1\n",
    "df_y_pred.index.name = 'ID'\n",
    "df_y_pred.to_csv(\"y_pred_RL3.csv\")\n",
    "\n",
    "\n",
    "# FIJA:\n",
    "# epochs = 20000\n",
    "# alpha = 0.02\n",
    "# epsilon = 0.0001"
   ]
  }
 ],
 "metadata": {
  "kernelspec": {
   "display_name": "venv",
   "language": "python",
   "name": "python3"
  },
  "language_info": {
   "codemirror_mode": {
    "name": "ipython",
    "version": 3
   },
   "file_extension": ".py",
   "mimetype": "text/x-python",
   "name": "python",
   "nbconvert_exporter": "python",
   "pygments_lexer": "ipython3",
   "version": "3.9.13"
  }
 },
 "nbformat": 4,
 "nbformat_minor": 2
}
